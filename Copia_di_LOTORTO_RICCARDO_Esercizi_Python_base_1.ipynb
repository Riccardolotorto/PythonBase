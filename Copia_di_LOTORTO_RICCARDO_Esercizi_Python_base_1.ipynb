{
  "nbformat": 4,
  "nbformat_minor": 0,
  "metadata": {
    "colab": {
      "provenance": [],
      "collapsed_sections": [],
      "include_colab_link": true
    },
    "kernelspec": {
      "name": "python3",
      "display_name": "Python 3"
    },
    "language_info": {
      "name": "python"
    }
  },
  "cells": [
    {
      "cell_type": "markdown",
      "metadata": {
        "id": "view-in-github",
        "colab_type": "text"
      },
      "source": [
        "<a href=\"https://colab.research.google.com/github/Riccardolotorto/Python/blob/main/Copia_di_LOTORTO_RICCARDO_Esercizi_Python_base_1.ipynb\" target=\"_parent\"><img src=\"https://colab.research.google.com/assets/colab-badge.svg\" alt=\"Open In Colab\"/></a>"
      ]
    },
    {
      "cell_type": "markdown",
      "source": [
        "Scrivere al di sotto di ogni esercizio il codice richiesto. Al termine, consegnare su classroom il notebook realizzato."
      ],
      "metadata": {
        "id": "u24Wx-pXrz4j"
      }
    },
    {
      "cell_type": "markdown",
      "source": [
        "0. assegnare alle variabili x, y e z i valori 10, 20 e 30 in un'unica istruzione. Assegnare alle variabili a, b e c il valore 100 sempre in un'unica istruzione"
      ],
      "metadata": {
        "id": "ym0EsAfkyxmz"
      }
    },
    {
      "cell_type": "code",
      "source": [
        "x,y,z = 10,20,30\n",
        "a = b = c = 100\n",
        "print(a,b,c)"
      ],
      "metadata": {
        "id": "K6G4zgcCzAAz",
        "colab": {
          "base_uri": "https://localhost:8080/"
        },
        "outputId": "3c1f5c07-e3b4-4677-a067-0192dc2ecffa"
      },
      "execution_count": null,
      "outputs": [
        {
          "output_type": "stream",
          "name": "stdout",
          "text": [
            "100 100 100\n"
          ]
        }
      ]
    },
    {
      "cell_type": "markdown",
      "source": [
        "1. far inserire all'utente due numeri interi, scambiarli e visualizzarli"
      ],
      "metadata": {
        "id": "_w3ESGmCr7SL"
      }
    },
    {
      "cell_type": "code",
      "source": [
        "numero = int(input(\"inserire un numero: \")) \n",
        "numero_2 = int(input(\"inserire un altro numero: \"))\n",
        "numero, numero_2 = numero_2, numero\n",
        "print(numero, numero_2)"
      ],
      "metadata": {
        "id": "z5zHMYWlseti",
        "colab": {
          "base_uri": "https://localhost:8080/"
        },
        "outputId": "3206d3bc-cca4-4f53-b44d-f82696de7c96"
      },
      "execution_count": 1,
      "outputs": [
        {
          "output_type": "stream",
          "name": "stdout",
          "text": [
            "inserire un numero: 2\n",
            "inserire un altro numero: 3\n",
            "3 2\n"
          ]
        }
      ]
    },
    {
      "cell_type": "markdown",
      "source": [
        "2. far inserire all'utente due numeri e calcolare l'elevamento a potenza del primo per il secondo. Provare poi a vedere qual è la massima potenza del 2 che Python riesce a calcolare: lo smartphone è altrettanto potente?"
      ],
      "metadata": {
        "id": "dkojX3qusGJi"
      }
    },
    {
      "cell_type": "code",
      "source": [
        "base = int(input(\"inserire la base della potenza: \"))\n",
        "esponente = int(input(\"inserire l'esponente della potenza: \"))\n",
        "pow(base, esponente)\n"
      ],
      "metadata": {
        "id": "pYzftTyguOAc",
        "colab": {
          "base_uri": "https://localhost:8080/"
        },
        "outputId": "c56d2549-a2de-4806-836a-0837dedc6599"
      },
      "execution_count": 3,
      "outputs": [
        {
          "name": "stdout",
          "output_type": "stream",
          "text": [
            "inserire la base della potenza: 2\n",
            "inserire l'esponente della potenza: 5000\n"
          ]
        },
        {
          "output_type": "execute_result",
          "data": {
            "text/plain": [
              "141246703213942603683520966701614733366889617518454111681368808585711816984270751255808912631671152637335603208431366082764203838069979338335971185726639923431051777851865399011877999645131707069373498212631323752553111215372844035950900535954860733418453405575566736801565587405464699640499050849699472357900905617571376618228216434213181520991556677126498651782204174061830939239176861341383294018240225838692725596147005144243281075275629495339093813198966735633606329691023842454125835888656873133981287240980008838073668221804264432910894030789020219440578198488267339768238872279902157420307247570510423845868872596735891805818727796435753018518086641356012851302546726823009250218328018251907340245449863183265637987862198511046362985461949587281119139907228004385942880953958816554567625296086916885774828934449941362416588675326940332561103664556982622206834474219811081872404929503481991376740379825998791411879802717583885498575115299471743469241117070230398103378615232793710290992656444842895511830355733152020804157920090041811951880456705515468349446182731742327685989277607620709525878318766488368348965015474997864119765441433356928012344111765735336393557879214937004347568208665958717764059293592887514292843557047089164876483116615691886203812997555690171892169733755224469032475078797830901321579940127337210694377283439922280274060798234786740434893458120198341101033812506720046609891160700284002100980452964039788704335302619337597862052192280371481132164147186514169090917191909376"
            ]
          },
          "metadata": {},
          "execution_count": 3
        }
      ]
    },
    {
      "cell_type": "markdown",
      "source": [
        "3. far inserire all'utente tre numeri e visualizzare il massimo dei tre"
      ],
      "metadata": {
        "id": "PYqK5w8yseCy"
      }
    },
    {
      "cell_type": "code",
      "source": [
        "num1 = int(input(\"inserire un numero: \"))\n",
        "num2 = int(input(\"inserire un altro numero: \"))\n",
        "num3 = int(input(\"inserire un altro numero: \"))\n",
        "valoremax = max(num1, num2, num3)\n",
        "print(valoremax)"
      ],
      "metadata": {
        "id": "pJSumYgPsmAb",
        "colab": {
          "base_uri": "https://localhost:8080/"
        },
        "outputId": "8ebedb9f-8b7a-4b28-9b81-679f0c950bef"
      },
      "execution_count": null,
      "outputs": [
        {
          "output_type": "stream",
          "name": "stdout",
          "text": [
            "inserire un numero: 56\n",
            "inserire un altro numero: 78\n",
            "inserire un altro numero: 123\n",
            "123\n"
          ]
        }
      ]
    },
    {
      "cell_type": "markdown",
      "source": [
        "4. dati tre numeri, dire se con quei tre numeri possiamo costruire un triangolo"
      ],
      "metadata": {
        "id": "sJJHEnXXsmeL"
      }
    },
    {
      "cell_type": "code",
      "source": [
        "lato1 = int(input(\"inserire un numero: \"))\n",
        "lato2 = int(input(\"inserire un altro numero: \"))\n",
        "lato3 = int(input(\"inserire un altro numero: \"))\n",
        "if lato1 < (lato2 +lato3) and lato2 < (lato1 + lato3) and lato3 < (lato2 + lato1):\n",
        "  print(\"si può costruire un trinagolo\")\n",
        "else:\n",
        "  print(\"non si può costuire un triangolo\")"
      ],
      "metadata": {
        "id": "u6iI2qeosvlS",
        "colab": {
          "base_uri": "https://localhost:8080/"
        },
        "outputId": "93aa959d-e757-491e-a943-b6611e7786f8"
      },
      "execution_count": 4,
      "outputs": [
        {
          "output_type": "stream",
          "name": "stdout",
          "text": [
            "inserire un numero: 8\n",
            "inserire un altro numero: 4\n",
            "inserire un altro numero: 3\n",
            "non si può costuire un triangolo\n"
          ]
        }
      ]
    },
    {
      "cell_type": "markdown",
      "source": [
        "5. far inserire dall'utente le misure di due cateti di un triangolo rettangolo (valori reali) e calcolare l'area del rettangolo e l'ipotenusa"
      ],
      "metadata": {
        "id": "zeDmm2t9sxER"
      }
    },
    {
      "cell_type": "code",
      "source": [
        "import math\n",
        "cateto1 = int(input(\"inserire il valore del primo cateto: \"))\n",
        "cateto2 = int(input(\"inserire il valore del primo cateto: \"))\n",
        "area = (cateto1 * cateto2) / 2\n",
        "ipotenusaQ = (cateto1 * cateto1) + (cateto2 * cateto2) \n",
        "ipotenusa = math.sqrt(ipotenusaQ) \n",
        "print(\"l'area è: \", area)\n",
        "print(\"l'ipotenusa é: \", ipotenusa)"
      ],
      "metadata": {
        "id": "MJ2jzq4PtSti",
        "colab": {
          "base_uri": "https://localhost:8080/"
        },
        "outputId": "6f21583c-dab9-47b9-9527-e369a2fde6b3"
      },
      "execution_count": null,
      "outputs": [
        {
          "output_type": "stream",
          "name": "stdout",
          "text": [
            "inserire il valore del primo cateto: 3\n",
            "inserire il valore del primo cateto: 4\n",
            "l'area è:  6.0\n",
            "l'ipotenusa é:  5.0\n"
          ]
        }
      ]
    },
    {
      "cell_type": "markdown",
      "source": [
        "6. far inserire un numero intero dall'utente e dire se è pari o dispari"
      ],
      "metadata": {
        "id": "64dgOKMRtTDq"
      }
    },
    {
      "cell_type": "code",
      "source": [
        "nume = int(input(\"inserire un numero: \"))\n",
        "if nume % 2 == 0:\n",
        "    print(\"pari\")\n",
        "else:\n",
        "    print(\"dispari\")\n",
        "    "
      ],
      "metadata": {
        "id": "W7fI6Ej8t8Z6",
        "colab": {
          "base_uri": "https://localhost:8080/"
        },
        "outputId": "186472ad-6725-4462-ccb3-15d2bfc7d2d6"
      },
      "execution_count": null,
      "outputs": [
        {
          "output_type": "stream",
          "name": "stdout",
          "text": [
            "inserire un numero: 5\n",
            "il numero è dispari\n"
          ]
        }
      ]
    },
    {
      "cell_type": "markdown",
      "source": [
        "7. far inserire all'utente il valore di una temperatura in gradi centigradi e convertirlo in gradi fahrenheit"
      ],
      "metadata": {
        "id": "V16n7CsCuUXC"
      }
    },
    {
      "cell_type": "code",
      "source": [
        "temperaturaC = int(input(\"inserire una temperatura in gradi centrigradi: \"))\n",
        "Fahrenheit = (temperaturaC * 1.8) + 32\n",
        "print(Fahrenheit)"
      ],
      "metadata": {
        "id": "DUlV468iuhE7",
        "colab": {
          "base_uri": "https://localhost:8080/"
        },
        "outputId": "45d3f517-64e2-45f0-fc7c-9cf5070a12ed"
      },
      "execution_count": null,
      "outputs": [
        {
          "output_type": "stream",
          "name": "stdout",
          "text": [
            "inserire una temperatura in gradi centrigradi: 30\n",
            "86.0\n"
          ]
        }
      ]
    },
    {
      "cell_type": "markdown",
      "source": [
        "8. far inserire all'utente il valore di una temperatura in gradi fahrenheit e convertirlo in gradi centrigradi"
      ],
      "metadata": {
        "id": "TRbh4pEwuher"
      }
    },
    {
      "cell_type": "code",
      "source": [
        "temperaturaF = int(input(\"inserire una temperatura in gradi fahrenheit: \"))\n",
        "centigradi = (temperaturaF - 32)/ 1.8\n",
        "print(centigradi)"
      ],
      "metadata": {
        "id": "CNwCDAIFup-K",
        "colab": {
          "base_uri": "https://localhost:8080/"
        },
        "outputId": "6e9bacf4-4b4f-4ed1-dbb2-e2db12ed3eb5"
      },
      "execution_count": null,
      "outputs": [
        {
          "output_type": "stream",
          "name": "stdout",
          "text": [
            "inserire una temperatura in gradi fahrenheit: 86\n",
            "30.0\n"
          ]
        }
      ]
    },
    {
      "cell_type": "markdown",
      "source": [
        "9. far inserire all'utente una velocità in Km/h e visualizzare la stessa velocità in metri al secondo"
      ],
      "metadata": {
        "id": "YRjS88gtuqeC"
      }
    },
    {
      "cell_type": "code",
      "source": [
        "velocitàKh = int(input(\"inserire una velocità in Km/h: \"))\n",
        "velocitàMs = velocitàKh / 3.6\n",
        "print(velocitàMs)"
      ],
      "metadata": {
        "id": "Wricx3yyx3tb",
        "colab": {
          "base_uri": "https://localhost:8080/"
        },
        "outputId": "f4ef9005-bcf5-4a18-a977-7136f4f3cee5"
      },
      "execution_count": null,
      "outputs": [
        {
          "output_type": "stream",
          "name": "stdout",
          "text": [
            "inserire una velocità in Km/h: 50\n",
            "13.88888888888889\n"
          ]
        }
      ]
    },
    {
      "cell_type": "markdown",
      "source": [
        "10. far inserire all'utente il raggio di un cerchio e visualizzarne il diametro e l'area"
      ],
      "metadata": {
        "id": "ltgIq2OGx4I7"
      }
    },
    {
      "cell_type": "code",
      "source": [
        "raggio = int(input(\"inserire il valore del raggio del cerchio: \"))\n",
        "area = (raggio * raggio) * 3.14\n",
        "diametro = raggio * 2\n",
        "print(\"l'area è: \", area) \n",
        "print(\"il diametro è \", diametro)"
      ],
      "metadata": {
        "id": "BpbAnnUOzjGD",
        "colab": {
          "base_uri": "https://localhost:8080/"
        },
        "outputId": "1c4d5ef5-1407-4902-ac14-b540bb6f8147"
      },
      "execution_count": null,
      "outputs": [
        {
          "output_type": "stream",
          "name": "stdout",
          "text": [
            "inserire il valore del raggio del cerchio: 5\n",
            "l'area è:  78.5\n",
            "il diametro è  10\n"
          ]
        }
      ]
    },
    {
      "cell_type": "markdown",
      "source": [
        "11. far inserire all'utente il suo nome e poi il suo cognome e visualizzare il suo cognome e il suo nome separati da uno spazio"
      ],
      "metadata": {
        "id": "M18Obb-Gzjdq"
      }
    },
    {
      "cell_type": "code",
      "source": [
        "nome = input(\"inserire il tuo nome: \")\n",
        "cognome = input(\"inserire il tuo cognome: \")\n",
        "print(cognome,\"\", nome)"
      ],
      "metadata": {
        "id": "w2C_ln0LzwPa",
        "colab": {
          "base_uri": "https://localhost:8080/"
        },
        "outputId": "8e54455b-ebde-44b3-c587-328a0d088e7e"
      },
      "execution_count": null,
      "outputs": [
        {
          "output_type": "stream",
          "name": "stdout",
          "text": [
            "inserire il tuo nome: riccardo\n",
            "inserire il tuo cognome: lotorto\n",
            "lotorto  riccardo\n"
          ]
        }
      ]
    },
    {
      "cell_type": "markdown",
      "source": [
        "12. far inserire all'utente un numero e visualizzare il suo valore assoluto"
      ],
      "metadata": {
        "id": "BS9gBYBUzwp7"
      }
    },
    {
      "cell_type": "code",
      "source": [
        "import math\n",
        "numerocolsegno = int(input(\"inserire un numero: \"))\n",
        "valoreassoluto = abs(numerocolsegno)\n",
        "print(valoreassoluto)"
      ],
      "metadata": {
        "id": "KOZrphgUz89a",
        "colab": {
          "base_uri": "https://localhost:8080/"
        },
        "outputId": "cf42c1b6-dba5-4121-c45e-3606693dbb10"
      },
      "execution_count": null,
      "outputs": [
        {
          "output_type": "stream",
          "name": "stdout",
          "text": [
            "inserire un numero: -7\n",
            "7\n"
          ]
        }
      ]
    },
    {
      "cell_type": "markdown",
      "source": [
        "13. far inserire all'utente un voto e controllare che sia compreso tra 1 e 10, estremi inclusi, Se è compreso visualizzare la stringa 'OK' altrimenti visualizzare la stringa 'KO'"
      ],
      "metadata": {
        "id": "j1tl_8INz9ZS"
      }
    },
    {
      "cell_type": "code",
      "source": [
        "voto = int(input(\"inserire un voto: \"))\n",
        "if voto >= 1 and voto <= 10:\n",
        "  print(\"OK\")\n",
        "else:\n",
        "  print(\"KO\")"
      ],
      "metadata": {
        "id": "7Cgqx9K20ccr",
        "colab": {
          "base_uri": "https://localhost:8080/"
        },
        "outputId": "24706dde-accd-4c20-fc6b-c1e68b31ff89"
      },
      "execution_count": null,
      "outputs": [
        {
          "output_type": "stream",
          "name": "stdout",
          "text": [
            "inserire un voto: 0\n",
            "KO\n"
          ]
        }
      ]
    },
    {
      "cell_type": "markdown",
      "source": [
        "14. far inserire all'utente due numeri e dire se uno è multiplo dell'altro. Ad esempio se l'utente inserisse i valori 60 e 15 il programma dovrebbe visualizzare la stringa '60 è un multiplo di 15'. Stessa cosa se l'utente inserisse prima il 15 e poi il 60., Se non sono multipli, visualizzare un messaggio appropriato"
      ],
      "metadata": {
        "id": "3PIY9PvH0c06"
      }
    },
    {
      "cell_type": "code",
      "source": [
        "N = int(input(\"inserire un numero: \"))\n",
        "N2 = int(input(\"inserire un altro numero: \"))\n",
        "if N % N2 == 0:\n",
        "  print(N,\" è un multiplo di: \",N2)\n",
        "elif N2 % N == 0:\n",
        "  print(N2,\" è un multiplo di: \",N)\n",
        "else:\n",
        "  print(\"non sono multipli\")"
      ],
      "metadata": {
        "id": "VS8xJJQZ1FfS",
        "colab": {
          "base_uri": "https://localhost:8080/"
        },
        "outputId": "487b25fd-4744-4e51-b10c-eacc6df6331f"
      },
      "execution_count": 7,
      "outputs": [
        {
          "output_type": "stream",
          "name": "stdout",
          "text": [
            "inserire un numero: 17\n",
            "inserire un altro numero: 15\n",
            "non sono multipli\n"
          ]
        }
      ]
    },
    {
      "cell_type": "markdown",
      "source": [
        "15. far inserire all'utente la durata di un periodi di tempo in ore, minuti e secodni e convertirlo in secondi"
      ],
      "metadata": {
        "id": "444w9p761F7j"
      }
    },
    {
      "cell_type": "code",
      "source": [
        "o = int(input(\"inserire le ore: \"))\n",
        "m = int(input(\"inserire i minuti: \"))\n",
        "s = int(input(\"inserire i secondi: \"))\n",
        "convertireleore = o * 3600\n",
        "convertireiminuti = m * 60\n",
        "totale = convertireleore + convertireiminuti + s\n",
        "print(totale)"
      ],
      "metadata": {
        "id": "S0xfdzxW1ijl",
        "colab": {
          "base_uri": "https://localhost:8080/"
        },
        "outputId": "fa573bcf-dd81-4f8b-9289-bdb172f7d0a9"
      },
      "execution_count": 8,
      "outputs": [
        {
          "output_type": "stream",
          "name": "stdout",
          "text": [
            "inserire le ore: 1\n",
            "inserire i minuti: 20\n",
            "inserire i secondi: 0\n",
            "4800\n"
          ]
        }
      ]
    },
    {
      "cell_type": "markdown",
      "source": [
        "16. far inserire all'utente la durata di un periodo in secondi e convertirlo in ore, minuti e secondi"
      ],
      "metadata": {
        "id": "3KaGzt4U1jA7"
      }
    },
    {
      "cell_type": "code",
      "source": [
        "sec = int(input(\"inserire i secondi: \"))\n",
        "ore = sec // 3600\n",
        "secavanzati = sec % 3600\n",
        "minuti = secavanzati // 60\n",
        "secavanzati = secavanzati % 60\n",
        "print(ore)\n",
        "print(minuti)\n",
        "print(secavanzati)"
      ],
      "metadata": {
        "id": "wAwF6xB-10YD",
        "colab": {
          "base_uri": "https://localhost:8080/"
        },
        "outputId": "dccdc883-7994-413b-ed7e-b6b7e4182cc1"
      },
      "execution_count": 11,
      "outputs": [
        {
          "output_type": "stream",
          "name": "stdout",
          "text": [
            "inserire i secondi: 3800\n",
            "1\n",
            "3\n",
            "20\n"
          ]
        }
      ]
    }
  ]
}